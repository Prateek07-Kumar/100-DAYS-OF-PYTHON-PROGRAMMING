{
 "cells": [
  {
   "cell_type": "code",
   "execution_count": 1,
   "metadata": {},
   "outputs": [
    {
     "name": "stdout",
     "output_type": "stream",
     "text": [
      "Welcome\n"
     ]
    }
   ],
   "source": [
    "# correct email- prateekchaurasia007@gmail.com\n",
    "# Password - 1245\n",
    "\n",
    "email = input(\"Apna email bata\")\n",
    "password = input(\"Apna password bhi bata\")\n",
    "\n",
    "if email == \"prateekchaurasia007@gmail.com\" and password == \"1234\":\n",
    "    print(\"Welcome\")\n",
    "else:\n",
    "    print(\"Incorrect credentials\")"
   ]
  },
  {
   "cell_type": "code",
   "execution_count": 2,
   "metadata": {},
   "outputs": [
    {
     "name": "stdout",
     "output_type": "stream",
     "text": [
      "Incorrect credentials\n"
     ]
    }
   ],
   "source": [
    "# correct email- prateekchaurasia007@gmail.com\n",
    "# Password - 1245\n",
    "\n",
    "email = input(\"Apna email bata\")\n",
    "password = input(\"Apna password bhi bata\")\n",
    "\n",
    "if email == \"prateekchaurasia007@gmail.com\" and password == \"1234\":\n",
    "    print(\"Welcome\")\n",
    "    \n",
    "elif email == \"prateekchaurasia007@gmail.com\" and password != \"1234\":\n",
    "    print(\"Password Incorrect\")\n",
    "    password = input(\"Password fir se bol\")\n",
    "    if password == \"1234\":\n",
    "        print(\"Finally correct\")\n",
    "    else:\n",
    "        print(\"Still incorrect\")\n",
    "else:\n",
    "    print(\"Incorrect credentials\")"
   ]
  },
  {
   "cell_type": "code",
   "execution_count": 3,
   "metadata": {},
   "outputs": [
    {
     "name": "stdout",
     "output_type": "stream",
     "text": [
      "Email galat hai shai likho\n"
     ]
    }
   ],
   "source": [
    "email = input(\"Apna email bata\")\n",
    "if '@' in email:\n",
    "    password = input(\"Apna password bhi bata\")\n",
    "        \n",
    "    if email == \"prateekchaurasia007@gmail.com\" and password == \"1234\":\n",
    "        print(\"Welcome\")\n",
    "        \n",
    "    elif email == \"prateekchaurasia007@gmail.com\" and password != \"1234\":\n",
    "        print(\"Password Incorrect\")\n",
    "        password = input(\"Password fir se bol\")\n",
    "        if password == \"1234\":\n",
    "            print(\"Finally correct\")\n",
    "        else:\n",
    "            print(\"Still incorrect\")\n",
    "    else:\n",
    "        print(\"Incorrect credentials\")\n",
    "\n",
    "else:\n",
    "    print(\"Email galat hai shai likho\")\n",
    "\n",
    "    "
   ]
  },
  {
   "attachments": {},
   "cell_type": "markdown",
   "metadata": {},
   "source": [
    "## Indentation-Python"
   ]
  },
  {
   "cell_type": "code",
   "execution_count": 4,
   "metadata": {},
   "outputs": [
    {
     "ename": "SyntaxError",
     "evalue": "invalid syntax. Maybe you meant '==' or ':=' instead of '='? (2803932705.py, line 1)",
     "output_type": "error",
     "traceback": [
      "\u001b[1;36m  Cell \u001b[1;32mIn[4], line 1\u001b[1;36m\u001b[0m\n\u001b[1;33m    if(name = \"xyz\"){\u001b[0m\n\u001b[1;37m       ^\u001b[0m\n\u001b[1;31mSyntaxError\u001b[0m\u001b[1;31m:\u001b[0m invalid syntax. Maybe you meant '==' or ':=' instead of '='?\n"
     ]
    }
   ],
   "source": [
    "if(name = \"xyz\"){\n",
    "    something:\n",
    "    something:\n",
    "}else{\n",
    "    something else:\n",
    "    something else:\n",
    "}"
   ]
  },
  {
   "cell_type": "code",
   "execution_count": 7,
   "metadata": {},
   "outputs": [
    {
     "name": "stdout",
     "output_type": "stream",
     "text": [
      "line 1\n",
      "line 2\n",
      "line 5\n"
     ]
    }
   ],
   "source": [
    "name = \"xyz\"\n",
    "if name == \"xyz\":\n",
    "    print(\"line 1\")\n",
    "    print(\"line 2\")\n",
    "    if 5 == 5:\n",
    "        print(\"line 5\")\n",
    "else:\n",
    "    print(\"line 3\")     "
   ]
  },
  {
   "cell_type": "code",
   "execution_count": null,
   "metadata": {},
   "outputs": [],
   "source": []
  }
 ],
 "metadata": {
  "kernelspec": {
   "display_name": "Python 3",
   "language": "python",
   "name": "python3"
  },
  "language_info": {
   "codemirror_mode": {
    "name": "ipython",
    "version": 3
   },
   "file_extension": ".py",
   "mimetype": "text/x-python",
   "name": "python",
   "nbconvert_exporter": "python",
   "pygments_lexer": "ipython3",
   "version": "3.10.9"
  },
  "orig_nbformat": 4
 },
 "nbformat": 4,
 "nbformat_minor": 2
}
