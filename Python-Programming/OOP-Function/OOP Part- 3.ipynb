{
 "cells": [
  {
   "cell_type": "code",
   "execution_count": 1,
   "metadata": {},
   "outputs": [
    {
     "name": "stdout",
     "output_type": "stream",
     "text": [
      "gurgaon 122011 haryana\n",
      "mumbai 111111 maharastra\n"
     ]
    }
   ],
   "source": [
    "# example\n",
    "class Customer:\n",
    "\n",
    "  def __init__(self,name,gender,address):\n",
    "    self.name = name\n",
    "    self.gender = gender\n",
    "    self.address = address\n",
    "\n",
    "  def print_address(self):\n",
    "    print(self.address._Address__city,self.address.pin,self.address.state)\n",
    "\n",
    "  def edit_profile(self,new_name,new_city,new_pin,new_state):\n",
    "    self.name = new_name\n",
    "    self.address.edit_address(new_city,new_pin,new_state)\n",
    "\n",
    "class Address:\n",
    "\n",
    "  def __init__(self,city,pin,state):\n",
    "      self.__city = city\n",
    "      self.pin = pin\n",
    "      self.state = state\n",
    "\n",
    "  def get_city(self):\n",
    "    return self.__city\n",
    "\n",
    "  def edit_address(self,new_city,new_pin,new_state):\n",
    "    self.__city = new_city\n",
    "    self.pin = new_pin\n",
    "    self.state = new_state\n",
    "\n",
    "add1 = Address('gurgaon',122011,'haryana')\n",
    "cust = Customer('nitish','male',add1)\n",
    "\n",
    "cust.print_address()\n",
    "\n",
    "cust.edit_profile('ankit','mumbai',111111,'maharastra')\n",
    "cust.print_address()\n",
    "# method example\n",
    "# what about private attribute"
   ]
  },
  {
   "cell_type": "markdown",
   "metadata": {},
   "source": [
    "**Inheritance**\n",
    "\n",
    "- What is inheritance\n",
    "- Example\n",
    "- What gets inherited?"
   ]
  },
  {
   "cell_type": "code",
   "execution_count": 2,
   "metadata": {},
   "outputs": [],
   "source": [
    "# Inheritance and it's benefits\n"
   ]
  },
  {
   "cell_type": "code",
   "execution_count": 14,
   "metadata": {},
   "outputs": [
    {
     "name": "stdout",
     "output_type": "stream",
     "text": [
      "nitish\n",
      "login\n",
      "enroll into the course\n"
     ]
    }
   ],
   "source": [
    "# Example\n",
    "\n",
    "# parent\n",
    "class User:\n",
    "\n",
    "  def __init__(self):\n",
    "    self.name = 'nitish'\n",
    "    self.gender = 'male'\n",
    "\n",
    "  def login(self):\n",
    "    print('login')\n",
    "\n",
    "# child\n",
    "class Student(User):\n",
    "\n",
    "#   def __init__(self):\n",
    "#     self.rollno = 100\n",
    "\n",
    "  def enroll(self):\n",
    "    print('enroll into the course')\n",
    "\n",
    "u = User()\n",
    "s = Student()\n",
    "\n",
    "print(s.name)\n",
    "s.login()\n",
    "s.enroll()"
   ]
  },
  {
   "cell_type": "markdown",
   "metadata": {},
   "source": [
    "**What gets inherited?**\n",
    "\n",
    "- Constructor\n",
    "- Non Private Attributes\n",
    "- Non Private Methods"
   ]
  },
  {
   "cell_type": "code",
   "execution_count": 26,
   "metadata": {},
   "outputs": [
    {
     "name": "stdout",
     "output_type": "stream",
     "text": [
      "Inside phone constructor\n",
      "Price of phone is : <__main__.SmartPhone object at 0x000001D4D461DFF0>\n"
     ]
    }
   ],
   "source": [
    "# constructor example\n",
    "\n",
    "# constructor example\n",
    "\n",
    "class Phone:\n",
    "    def __init__(self, price, brand, camera):\n",
    "        print (\"Inside phone constructor\")\n",
    "        self.price = price\n",
    "        self.brand = brand\n",
    "        self.camera = camera\n",
    "\n",
    "    def buy(self):\n",
    "        print (\"Buying a phone\")\n",
    "        \n",
    "    def amount(self):\n",
    "        print('Price of phone is :',s)\n",
    "\n",
    "class SmartPhone(Phone):\n",
    "    pass\n",
    "\n",
    "s=SmartPhone(20000, \"Apple\", 13)\n",
    "s.amount()"
   ]
  },
  {
   "cell_type": "code",
   "execution_count": 36,
   "metadata": {},
   "outputs": [
    {
     "name": "stdout",
     "output_type": "stream",
     "text": [
      "Inside SmartPhone constructor\n"
     ]
    }
   ],
   "source": [
    "# constructor example 2\n",
    "\n",
    "class Phone:\n",
    "    def __init__(self, price, brand, camera):\n",
    "        print (\"Inside phone constructor\")\n",
    "        self.__price = price\n",
    "        self.brand = brand\n",
    "        self.camera = camera\n",
    "        \n",
    "\n",
    "class SmartPhone(Phone):\n",
    "    def __init__(self, os, ram):\n",
    "        self.os = os\n",
    "        self.ram = ram\n",
    "        print (\"Inside SmartPhone constructor\")\n",
    "\n",
    "s=SmartPhone(\"Android\", 2)\n",
    "# s.brand()"
   ]
  },
  {
   "cell_type": "code",
   "execution_count": 40,
   "metadata": {},
   "outputs": [
    {
     "name": "stdout",
     "output_type": "stream",
     "text": [
      "Inside phone constructor\n",
      "20000\n"
     ]
    }
   ],
   "source": [
    "# child can't access private members of the class\n",
    "\n",
    "class Phone:\n",
    "    def __init__(self, price, brand, camera):\n",
    "        print (\"Inside phone constructor\")\n",
    "        self.__price = price\n",
    "        self.brand = brand\n",
    "        self.camera = camera\n",
    "\n",
    "    #getter\n",
    "    def show(self):\n",
    "        print (self.__price)\n",
    "\n",
    "class SmartPhone(Phone):\n",
    "    def check(self):\n",
    "        print(self.__price)\n",
    "\n",
    "s=SmartPhone(20000, \"Apple\", 13)\n",
    "s.show()"
   ]
  },
  {
   "cell_type": "code",
   "execution_count": 41,
   "metadata": {},
   "outputs": [
    {
     "name": "stdout",
     "output_type": "stream",
     "text": [
      "100\n",
      "This is in child class\n"
     ]
    }
   ],
   "source": [
    "class Parent:\n",
    "\n",
    "    def __init__(self,num):\n",
    "        self.__num=num\n",
    "\n",
    "    def get_num(self):\n",
    "        return self.__num\n",
    "\n",
    "class Child(Parent):\n",
    "\n",
    "    def show(self):\n",
    "        print(\"This is in child class\")\n",
    "        \n",
    "son=Child(100)\n",
    "print(son.get_num())\n",
    "son.show()"
   ]
  },
  {
   "cell_type": "code",
   "execution_count": 42,
   "metadata": {},
   "outputs": [
    {
     "ename": "AttributeError",
     "evalue": "'Child' object has no attribute '_Parent__num'",
     "output_type": "error",
     "traceback": [
      "\u001b[1;31m---------------------------------------------------------------------------\u001b[0m",
      "\u001b[1;31mAttributeError\u001b[0m                            Traceback (most recent call last)",
      "Cell \u001b[1;32mIn[42], line 18\u001b[0m\n\u001b[0;32m     15\u001b[0m         \u001b[39mreturn\u001b[39;00m \u001b[39mself\u001b[39m\u001b[39m.\u001b[39m__val\n\u001b[0;32m     17\u001b[0m son\u001b[39m=\u001b[39mChild(\u001b[39m100\u001b[39m,\u001b[39m10\u001b[39m)\n\u001b[1;32m---> 18\u001b[0m \u001b[39mprint\u001b[39m(\u001b[39m\"\u001b[39m\u001b[39mParent: Num:\u001b[39m\u001b[39m\"\u001b[39m,son\u001b[39m.\u001b[39;49mget_num())\n\u001b[0;32m     19\u001b[0m \u001b[39mprint\u001b[39m(\u001b[39m\"\u001b[39m\u001b[39mChild: Val:\u001b[39m\u001b[39m\"\u001b[39m,son\u001b[39m.\u001b[39mget_val())\n",
      "Cell \u001b[1;32mIn[42], line 7\u001b[0m, in \u001b[0;36mParent.get_num\u001b[1;34m(self)\u001b[0m\n\u001b[0;32m      6\u001b[0m \u001b[39mdef\u001b[39;00m \u001b[39mget_num\u001b[39m(\u001b[39mself\u001b[39m):\n\u001b[1;32m----> 7\u001b[0m     \u001b[39mreturn\u001b[39;00m \u001b[39mself\u001b[39;49m\u001b[39m.\u001b[39;49m__num\n",
      "\u001b[1;31mAttributeError\u001b[0m: 'Child' object has no attribute '_Parent__num'"
     ]
    }
   ],
   "source": [
    "class Parent:\n",
    "\n",
    "    def __init__(self,num):\n",
    "        self.__num=num\n",
    "\n",
    "    def get_num(self):\n",
    "        return self.__num\n",
    "\n",
    "class Child(Parent):\n",
    "\n",
    "    def __init__(self,val,num):\n",
    "        self.__val=val\n",
    "\n",
    "    def get_val(self):\n",
    "        return self.__val\n",
    "        \n",
    "son=Child(100,10)\n",
    "print(\"Parent: Num:\",son.get_num())\n",
    "print(\"Child: Val:\",son.get_val())"
   ]
  },
  {
   "cell_type": "code",
   "execution_count": 43,
   "metadata": {},
   "outputs": [
    {
     "name": "stdout",
     "output_type": "stream",
     "text": [
      "class A : 100\n"
     ]
    }
   ],
   "source": [
    "class A:\n",
    "    def __init__(self):\n",
    "        self.var1=100\n",
    "\n",
    "    def display1(self,var1):\n",
    "        print(\"class A :\", self.var1)\n",
    "class B(A):\n",
    "  \n",
    "    def display2(self,var1):\n",
    "        print(\"class B :\", self.var1)cc\n",
    "\n",
    "obj=B()\n",
    "obj.display1(200)"
   ]
  },
  {
   "cell_type": "code",
   "execution_count": null,
   "metadata": {},
   "outputs": [],
   "source": [
    "# 1:15:00"
   ]
  }
 ],
 "metadata": {
  "kernelspec": {
   "display_name": "base",
   "language": "python",
   "name": "python3"
  },
  "language_info": {
   "codemirror_mode": {
    "name": "ipython",
    "version": 3
   },
   "file_extension": ".py",
   "mimetype": "text/x-python",
   "name": "python",
   "nbconvert_exporter": "python",
   "pygments_lexer": "ipython3",
   "version": "3.10.9"
  },
  "orig_nbformat": 4
 },
 "nbformat": 4,
 "nbformat_minor": 2
}
