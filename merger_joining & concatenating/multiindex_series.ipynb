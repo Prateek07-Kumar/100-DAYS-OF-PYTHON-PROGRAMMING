{
 "cells": [
  {
   "cell_type": "code",
   "execution_count": 1,
   "metadata": {},
   "outputs": [],
   "source": [
    "import numpy as np\n",
    "import pandas as pd"
   ]
  },
  {
   "cell_type": "markdown",
   "metadata": {},
   "source": [
    "### Series is 1D and DataFrames are 2D objects\n",
    "- But why?\n",
    "- And what exactly is index?"
   ]
  },
  {
   "cell_type": "code",
   "execution_count": 4,
   "metadata": {},
   "outputs": [
    {
     "data": {
      "text/plain": [
       "(cse, 2019)    1\n",
       "(cse, 2020)    2\n",
       "(cse, 2021)    3\n",
       "(cse, 2022)    4\n",
       "(ece, 2019)    5\n",
       "(ece, 2020)    6\n",
       "(ece, 2021)    7\n",
       "(ece, 2022)    8\n",
       "dtype: int64"
      ]
     },
     "execution_count": 4,
     "metadata": {},
     "output_type": "execute_result"
    }
   ],
   "source": [
    "# can we have multiple index? Let's try\n",
    "index_val = [('cse',2019),('cse',2020),('cse',2021),('cse',2022),('ece',2019),('ece',2020),('ece',2021),('ece',2022)]\n",
    "a = pd.Series([1,2,3,4,5,6,7,8],index=index_val)\n",
    "a"
   ]
  },
  {
   "cell_type": "code",
   "execution_count": 6,
   "metadata": {},
   "outputs": [],
   "source": [
    "# The problem?\n",
    "# a['cse']"
   ]
  },
  {
   "cell_type": "code",
   "execution_count": 7,
   "metadata": {},
   "outputs": [],
   "source": [
    "# The solution -> multiindex series(also known as Hierarchical Indexing)\n",
    "# multiple index levels within a single index\n"
   ]
  },
  {
   "cell_type": "code",
   "execution_count": 15,
   "metadata": {},
   "outputs": [
    {
     "data": {
      "text/plain": [
       "MultiIndex([('cse', 2019),\n",
       "            ('cse', 2020),\n",
       "            ('cse', 2021),\n",
       "            ('cse', 2022),\n",
       "            ('ece', 2019),\n",
       "            ('ece', 2020),\n",
       "            ('ece', 2021),\n",
       "            ('ece', 2022)],\n",
       "           )"
      ]
     },
     "execution_count": 15,
     "metadata": {},
     "output_type": "execute_result"
    }
   ],
   "source": [
    "# how to create multiindex object\n",
    "# 1. pd.MultiIndex.from_tuples()\n",
    "index_val = [('cse',2019),('cse',2020),('cse',2021),('cse',2022),('ece',2019),('ece',2020),('ece',2021),('ece',2022)]\n",
    "multiindex = pd.MultiIndex.from_tuples(index_val)\n",
    "multiindex.levels[1]\n",
    "\n",
    "# 2. pd.MultiIndex.from_product()\n",
    "pd.MultiIndex.from_product([['cse','ece'],[2019,2020,2021,2022]])"
   ]
  },
  {
   "cell_type": "code",
   "execution_count": 16,
   "metadata": {},
   "outputs": [],
   "source": [
    "# level inside multiindex object"
   ]
  },
  {
   "cell_type": "code",
   "execution_count": 17,
   "metadata": {},
   "outputs": [
    {
     "data": {
      "text/plain": [
       "cse  2019    1\n",
       "     2020    2\n",
       "     2021    3\n",
       "     2022    4\n",
       "ece  2019    5\n",
       "     2020    6\n",
       "     2021    7\n",
       "     2022    8\n",
       "dtype: int64"
      ]
     },
     "execution_count": 17,
     "metadata": {},
     "output_type": "execute_result"
    }
   ],
   "source": [
    "# creating a series with multiindex object\n",
    "s = pd.Series([1,2,3,4,5,6,7,8],index=multiindex)\n",
    "s"
   ]
  },
  {
   "cell_type": "code",
   "execution_count": 20,
   "metadata": {},
   "outputs": [
    {
     "data": {
      "text/plain": [
       "2019    1\n",
       "2020    2\n",
       "2021    3\n",
       "2022    4\n",
       "dtype: int64"
      ]
     },
     "execution_count": 20,
     "metadata": {},
     "output_type": "execute_result"
    }
   ],
   "source": [
    "# how to fetch items from such a series\n",
    "s['cse']"
   ]
  },
  {
   "cell_type": "code",
   "execution_count": 21,
   "metadata": {},
   "outputs": [],
   "source": [
    "# a logical question to ask"
   ]
  },
  {
   "cell_type": "code",
   "execution_count": 22,
   "metadata": {},
   "outputs": [
    {
     "data": {
      "text/html": [
       "<div>\n",
       "<style scoped>\n",
       "    .dataframe tbody tr th:only-of-type {\n",
       "        vertical-align: middle;\n",
       "    }\n",
       "\n",
       "    .dataframe tbody tr th {\n",
       "        vertical-align: top;\n",
       "    }\n",
       "\n",
       "    .dataframe thead th {\n",
       "        text-align: right;\n",
       "    }\n",
       "</style>\n",
       "<table border=\"1\" class=\"dataframe\">\n",
       "  <thead>\n",
       "    <tr style=\"text-align: right;\">\n",
       "      <th></th>\n",
       "      <th>2019</th>\n",
       "      <th>2020</th>\n",
       "      <th>2021</th>\n",
       "      <th>2022</th>\n",
       "    </tr>\n",
       "  </thead>\n",
       "  <tbody>\n",
       "    <tr>\n",
       "      <th>cse</th>\n",
       "      <td>1</td>\n",
       "      <td>2</td>\n",
       "      <td>3</td>\n",
       "      <td>4</td>\n",
       "    </tr>\n",
       "    <tr>\n",
       "      <th>ece</th>\n",
       "      <td>5</td>\n",
       "      <td>6</td>\n",
       "      <td>7</td>\n",
       "      <td>8</td>\n",
       "    </tr>\n",
       "  </tbody>\n",
       "</table>\n",
       "</div>"
      ],
      "text/plain": [
       "     2019  2020  2021  2022\n",
       "cse     1     2     3     4\n",
       "ece     5     6     7     8"
      ]
     },
     "execution_count": 22,
     "metadata": {},
     "output_type": "execute_result"
    }
   ],
   "source": [
    "# unstack\n",
    "temp = s.unstack()\n",
    "temp"
   ]
  },
  {
   "cell_type": "code",
   "execution_count": 23,
   "metadata": {},
   "outputs": [
    {
     "data": {
      "text/plain": [
       "cse  2019    1\n",
       "     2020    2\n",
       "     2021    3\n",
       "     2022    4\n",
       "ece  2019    5\n",
       "     2020    6\n",
       "     2021    7\n",
       "     2022    8\n",
       "dtype: int64"
      ]
     },
     "execution_count": 23,
     "metadata": {},
     "output_type": "execute_result"
    }
   ],
   "source": [
    "# stack\n",
    "temp.stack()"
   ]
  },
  {
   "cell_type": "code",
   "execution_count": 24,
   "metadata": {},
   "outputs": [],
   "source": [
    "# Then what was the point of multiindex series?"
   ]
  },
  {
   "cell_type": "code",
   "execution_count": 25,
   "metadata": {},
   "outputs": [],
   "source": [
    "# multiindex dataframe"
   ]
  },
  {
   "cell_type": "code",
   "execution_count": 28,
   "metadata": {},
   "outputs": [
    {
     "data": {
      "text/html": [
       "<div>\n",
       "<style scoped>\n",
       "    .dataframe tbody tr th:only-of-type {\n",
       "        vertical-align: middle;\n",
       "    }\n",
       "\n",
       "    .dataframe tbody tr th {\n",
       "        vertical-align: top;\n",
       "    }\n",
       "\n",
       "    .dataframe thead th {\n",
       "        text-align: right;\n",
       "    }\n",
       "</style>\n",
       "<table border=\"1\" class=\"dataframe\">\n",
       "  <thead>\n",
       "    <tr style=\"text-align: right;\">\n",
       "      <th></th>\n",
       "      <th></th>\n",
       "      <th>avg_package</th>\n",
       "      <th>students</th>\n",
       "    </tr>\n",
       "  </thead>\n",
       "  <tbody>\n",
       "    <tr>\n",
       "      <th rowspan=\"4\" valign=\"top\">cse</th>\n",
       "      <th>2019</th>\n",
       "      <td>1</td>\n",
       "      <td>2</td>\n",
       "    </tr>\n",
       "    <tr>\n",
       "      <th>2020</th>\n",
       "      <td>3</td>\n",
       "      <td>4</td>\n",
       "    </tr>\n",
       "    <tr>\n",
       "      <th>2021</th>\n",
       "      <td>5</td>\n",
       "      <td>6</td>\n",
       "    </tr>\n",
       "    <tr>\n",
       "      <th>2022</th>\n",
       "      <td>7</td>\n",
       "      <td>8</td>\n",
       "    </tr>\n",
       "    <tr>\n",
       "      <th rowspan=\"4\" valign=\"top\">ece</th>\n",
       "      <th>2019</th>\n",
       "      <td>9</td>\n",
       "      <td>10</td>\n",
       "    </tr>\n",
       "    <tr>\n",
       "      <th>2020</th>\n",
       "      <td>11</td>\n",
       "      <td>12</td>\n",
       "    </tr>\n",
       "    <tr>\n",
       "      <th>2021</th>\n",
       "      <td>13</td>\n",
       "      <td>14</td>\n",
       "    </tr>\n",
       "    <tr>\n",
       "      <th>2022</th>\n",
       "      <td>15</td>\n",
       "      <td>16</td>\n",
       "    </tr>\n",
       "  </tbody>\n",
       "</table>\n",
       "</div>"
      ],
      "text/plain": [
       "          avg_package  students\n",
       "cse 2019            1         2\n",
       "    2020            3         4\n",
       "    2021            5         6\n",
       "    2022            7         8\n",
       "ece 2019            9        10\n",
       "    2020           11        12\n",
       "    2021           13        14\n",
       "    2022           15        16"
      ]
     },
     "execution_count": 28,
     "metadata": {},
     "output_type": "execute_result"
    }
   ],
   "source": [
    "branch_df1 = pd.DataFrame(\n",
    "    [\n",
    "        [1,2],\n",
    "        [3,4],\n",
    "        [5,6],\n",
    "        [7,8],\n",
    "        [9,10],\n",
    "        [11,12],\n",
    "        [13,14],\n",
    "        [15,16],\n",
    "    ],\n",
    "    index = multiindex,\n",
    "    columns = ['avg_package','students']\n",
    ")\n",
    "\n",
    "branch_df1"
   ]
  },
  {
   "cell_type": "code",
   "execution_count": 37,
   "metadata": {},
   "outputs": [
    {
     "data": {
      "text/plain": [
       "cse  2019     2\n",
       "     2020     4\n",
       "     2021     6\n",
       "     2022     8\n",
       "ece  2019    10\n",
       "     2020    12\n",
       "     2021    14\n",
       "     2022    16\n",
       "Name: students, dtype: int64"
      ]
     },
     "execution_count": 37,
     "metadata": {},
     "output_type": "execute_result"
    }
   ],
   "source": [
    "branch_df1['students']"
   ]
  },
  {
   "cell_type": "code",
   "execution_count": 39,
   "metadata": {},
   "outputs": [],
   "source": [
    "# Are columns really different from index?"
   ]
  },
  {
   "cell_type": "code",
   "execution_count": 40,
   "metadata": {},
   "outputs": [
    {
     "data": {
      "text/html": [
       "<div>\n",
       "<style scoped>\n",
       "    .dataframe tbody tr th:only-of-type {\n",
       "        vertical-align: middle;\n",
       "    }\n",
       "\n",
       "    .dataframe tbody tr th {\n",
       "        vertical-align: top;\n",
       "    }\n",
       "\n",
       "    .dataframe thead tr th {\n",
       "        text-align: left;\n",
       "    }\n",
       "</style>\n",
       "<table border=\"1\" class=\"dataframe\">\n",
       "  <thead>\n",
       "    <tr>\n",
       "      <th></th>\n",
       "      <th colspan=\"2\" halign=\"left\">delhi</th>\n",
       "      <th colspan=\"2\" halign=\"left\">mumbai</th>\n",
       "    </tr>\n",
       "    <tr>\n",
       "      <th></th>\n",
       "      <th>avg_package</th>\n",
       "      <th>students</th>\n",
       "      <th>avg_package</th>\n",
       "      <th>students</th>\n",
       "    </tr>\n",
       "  </thead>\n",
       "  <tbody>\n",
       "    <tr>\n",
       "      <th>2019</th>\n",
       "      <td>1</td>\n",
       "      <td>2</td>\n",
       "      <td>0</td>\n",
       "      <td>0</td>\n",
       "    </tr>\n",
       "    <tr>\n",
       "      <th>2020</th>\n",
       "      <td>3</td>\n",
       "      <td>4</td>\n",
       "      <td>0</td>\n",
       "      <td>0</td>\n",
       "    </tr>\n",
       "    <tr>\n",
       "      <th>2021</th>\n",
       "      <td>5</td>\n",
       "      <td>6</td>\n",
       "      <td>0</td>\n",
       "      <td>0</td>\n",
       "    </tr>\n",
       "    <tr>\n",
       "      <th>2022</th>\n",
       "      <td>7</td>\n",
       "      <td>8</td>\n",
       "      <td>0</td>\n",
       "      <td>0</td>\n",
       "    </tr>\n",
       "  </tbody>\n",
       "</table>\n",
       "</div>"
      ],
      "text/plain": [
       "           delhi               mumbai         \n",
       "     avg_package students avg_package students\n",
       "2019           1        2           0        0\n",
       "2020           3        4           0        0\n",
       "2021           5        6           0        0\n",
       "2022           7        8           0        0"
      ]
     },
     "execution_count": 40,
     "metadata": {},
     "output_type": "execute_result"
    }
   ],
   "source": [
    "# multiindex df from columns perspective\n",
    "branch_df2 = pd.DataFrame(\n",
    "    [\n",
    "        [1,2,0,0],\n",
    "        [3,4,0,0],\n",
    "        [5,6,0,0],\n",
    "        [7,8,0,0],\n",
    "    ],\n",
    "    index = [2019,2020,2021,2022],\n",
    "    columns = pd.MultiIndex.from_product([['delhi','mumbai'],['avg_package','students']])\n",
    ")\n",
    "\n",
    "branch_df2"
   ]
  },
  {
   "cell_type": "code",
   "execution_count": 44,
   "metadata": {},
   "outputs": [
    {
     "data": {
      "text/plain": [
       "delhi   avg_package    1\n",
       "        students       2\n",
       "mumbai  avg_package    0\n",
       "        students       0\n",
       "Name: 2019, dtype: int64"
      ]
     },
     "execution_count": 44,
     "metadata": {},
     "output_type": "execute_result"
    }
   ],
   "source": [
    "branch_df2.loc[2019]\n",
    "# branch_df2['mumbai']['avg_package']"
   ]
  },
  {
   "cell_type": "code",
   "execution_count": 45,
   "metadata": {},
   "outputs": [
    {
     "data": {
      "text/html": [
       "<div>\n",
       "<style scoped>\n",
       "    .dataframe tbody tr th:only-of-type {\n",
       "        vertical-align: middle;\n",
       "    }\n",
       "\n",
       "    .dataframe tbody tr th {\n",
       "        vertical-align: top;\n",
       "    }\n",
       "\n",
       "    .dataframe thead tr th {\n",
       "        text-align: left;\n",
       "    }\n",
       "</style>\n",
       "<table border=\"1\" class=\"dataframe\">\n",
       "  <thead>\n",
       "    <tr>\n",
       "      <th></th>\n",
       "      <th></th>\n",
       "      <th colspan=\"2\" halign=\"left\">delhi</th>\n",
       "      <th colspan=\"2\" halign=\"left\">mumbai</th>\n",
       "    </tr>\n",
       "    <tr>\n",
       "      <th></th>\n",
       "      <th></th>\n",
       "      <th>avg_package</th>\n",
       "      <th>students</th>\n",
       "      <th>avg_package</th>\n",
       "      <th>students</th>\n",
       "    </tr>\n",
       "  </thead>\n",
       "  <tbody>\n",
       "    <tr>\n",
       "      <th rowspan=\"4\" valign=\"top\">cse</th>\n",
       "      <th>2019</th>\n",
       "      <td>1</td>\n",
       "      <td>2</td>\n",
       "      <td>0</td>\n",
       "      <td>0</td>\n",
       "    </tr>\n",
       "    <tr>\n",
       "      <th>2020</th>\n",
       "      <td>3</td>\n",
       "      <td>4</td>\n",
       "      <td>0</td>\n",
       "      <td>0</td>\n",
       "    </tr>\n",
       "    <tr>\n",
       "      <th>2021</th>\n",
       "      <td>5</td>\n",
       "      <td>6</td>\n",
       "      <td>0</td>\n",
       "      <td>0</td>\n",
       "    </tr>\n",
       "    <tr>\n",
       "      <th>2022</th>\n",
       "      <td>7</td>\n",
       "      <td>8</td>\n",
       "      <td>0</td>\n",
       "      <td>0</td>\n",
       "    </tr>\n",
       "    <tr>\n",
       "      <th rowspan=\"4\" valign=\"top\">ece</th>\n",
       "      <th>2019</th>\n",
       "      <td>9</td>\n",
       "      <td>10</td>\n",
       "      <td>0</td>\n",
       "      <td>0</td>\n",
       "    </tr>\n",
       "    <tr>\n",
       "      <th>2020</th>\n",
       "      <td>11</td>\n",
       "      <td>12</td>\n",
       "      <td>0</td>\n",
       "      <td>0</td>\n",
       "    </tr>\n",
       "    <tr>\n",
       "      <th>2021</th>\n",
       "      <td>13</td>\n",
       "      <td>14</td>\n",
       "      <td>0</td>\n",
       "      <td>0</td>\n",
       "    </tr>\n",
       "    <tr>\n",
       "      <th>2022</th>\n",
       "      <td>15</td>\n",
       "      <td>16</td>\n",
       "      <td>0</td>\n",
       "      <td>0</td>\n",
       "    </tr>\n",
       "  </tbody>\n",
       "</table>\n",
       "</div>"
      ],
      "text/plain": [
       "               delhi               mumbai         \n",
       "         avg_package students avg_package students\n",
       "cse 2019           1        2           0        0\n",
       "    2020           3        4           0        0\n",
       "    2021           5        6           0        0\n",
       "    2022           7        8           0        0\n",
       "ece 2019           9       10           0        0\n",
       "    2020          11       12           0        0\n",
       "    2021          13       14           0        0\n",
       "    2022          15       16           0        0"
      ]
     },
     "execution_count": 45,
     "metadata": {},
     "output_type": "execute_result"
    }
   ],
   "source": [
    "# Multiindex df in terms of both cols and index\n",
    "\n",
    "branch_df3 = pd.DataFrame(\n",
    "    [\n",
    "        [1,2,0,0],\n",
    "        [3,4,0,0],\n",
    "        [5,6,0,0],\n",
    "        [7,8,0,0],\n",
    "        [9,10,0,0],\n",
    "        [11,12,0,0],\n",
    "        [13,14,0,0],\n",
    "        [15,16,0,0],\n",
    "    ],\n",
    "    index = multiindex,\n",
    "    columns = pd.MultiIndex.from_product([['delhi','mumbai'],['avg_package','students']])\n",
    ")\n",
    "\n",
    "branch_df3"
   ]
  },
  {
   "cell_type": "markdown",
   "metadata": {},
   "source": [
    "**Stacking and Unstacking**"
   ]
  },
  {
   "cell_type": "code",
   "execution_count": 66,
   "metadata": {},
   "outputs": [
    {
     "data": {
      "text/plain": [
       "cse  2019  avg_package  delhi      1\n",
       "                        mumbai     0\n",
       "           students     delhi      2\n",
       "                        mumbai     0\n",
       "     2020  avg_package  delhi      3\n",
       "                        mumbai     0\n",
       "           students     delhi      4\n",
       "                        mumbai     0\n",
       "     2021  avg_package  delhi      5\n",
       "                        mumbai     0\n",
       "           students     delhi      6\n",
       "                        mumbai     0\n",
       "     2022  avg_package  delhi      7\n",
       "                        mumbai     0\n",
       "           students     delhi      8\n",
       "                        mumbai     0\n",
       "ece  2019  avg_package  delhi      9\n",
       "                        mumbai     0\n",
       "           students     delhi     10\n",
       "                        mumbai     0\n",
       "     2020  avg_package  delhi     11\n",
       "                        mumbai     0\n",
       "           students     delhi     12\n",
       "                        mumbai     0\n",
       "     2021  avg_package  delhi     13\n",
       "                        mumbai     0\n",
       "           students     delhi     14\n",
       "                        mumbai     0\n",
       "     2022  avg_package  delhi     15\n",
       "                        mumbai     0\n",
       "           students     delhi     16\n",
       "                        mumbai     0\n",
       "dtype: int64"
      ]
     },
     "execution_count": 66,
     "metadata": {},
     "output_type": "execute_result"
    }
   ],
   "source": [
    "# branch_df1.unstack().stack().stack()\n",
    "\n",
    "branch_df3.stack().stack()"
   ]
  },
  {
   "cell_type": "markdown",
   "metadata": {},
   "source": [
    "**Working with multiindex dataframes**"
   ]
  },
  {
   "cell_type": "code",
   "execution_count": null,
   "metadata": {},
   "outputs": [],
   "source": [
    "# 1:07:59"
   ]
  }
 ],
 "metadata": {
  "kernelspec": {
   "display_name": "Python 3",
   "language": "python",
   "name": "python3"
  },
  "language_info": {
   "codemirror_mode": {
    "name": "ipython",
    "version": 3
   },
   "file_extension": ".py",
   "mimetype": "text/x-python",
   "name": "python",
   "nbconvert_exporter": "python",
   "pygments_lexer": "ipython3",
   "version": "3.8.0"
  },
  "orig_nbformat": 4
 },
 "nbformat": 4,
 "nbformat_minor": 2
}
