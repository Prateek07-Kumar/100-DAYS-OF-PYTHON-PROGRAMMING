{
 "cells": [
  {
   "cell_type": "markdown",
   "metadata": {},
   "source": [
    "### Data Analysis Process\n",
    "1. Asking Questions\n",
    "2. Data Wrangling\n",
    "   \n",
    "   a. Gathering Data\n",
    "   \n",
    "- i. CSV files \n",
    "- ii. APIs \n",
    "- iii. Web Scraping \n",
    "- iv. Databases  \n",
    "  \n",
    "  b. Assessing Data\n",
    "  \n",
    "  c. Cleaning Data\n",
    "4. Exploratory Data Analysis\n",
    "5. Drawing Conclusion\n",
    "6. Comunicating Results"
   ]
  },
  {
   "cell_type": "markdown",
   "metadata": {},
   "source": [
    "### Summary of today's session\n",
    "- You have to become Sherlock\n",
    "- Will try to create a framework\n",
    "- Frameworks may vary\n",
    "- The goal is to give you idea"
   ]
  },
  {
   "cell_type": "markdown",
   "metadata": {},
   "source": [
    "### 1. Data Wrangling\n",
    "- Data Gathering\n",
    "- Data Accessing\n",
    "- Data Cleaning"
   ]
  },
  {
   "cell_type": "markdown",
   "metadata": {},
   "source": [
    "### 1b. Data Accessing\n",
    "In this step, the data is to be understood more deeply. Before implementing methods to clean it, you will definitely need to have a better idea about what the data is about."
   ]
  },
  {
   "cell_type": "markdown",
   "metadata": {},
   "source": [
    "### Types of Unclean Data\n",
    "\n",
    "There are 2 kinds of unclean data\n",
    "\n",
    "<image>"
   ]
  },
  {
   "cell_type": "markdown",
   "metadata": {},
   "source": [
    "### Dirty Data (Data with Quality issues): Dirty data, also known as low quality data. Low quality data has content issues.\n",
    "\n",
    "- Duplicated data\n",
    "- Missing Data\n",
    "- Corrupt Data\n",
    "- Inaccurate Data\n",
    "\n",
    "**Messy Data (Data with tidiness issues): Messy data, also known as untidy data. Untidy data has structural issues.Tidy data has the following properties:**\n",
    "\n",
    "- Each variable forms a column\n",
    "- Each observation forms a row\n",
    "- Each observational unit forms a table\n"
   ]
  },
  {
   "cell_type": "code",
   "execution_count": 3,
   "metadata": {},
   "outputs": [],
   "source": [
    "import numpy as np\n",
    "import pandas as pd\n",
    "import matplotlib.pyplot as plt"
   ]
  },
  {
   "cell_type": "code",
   "execution_count": null,
   "metadata": {},
   "outputs": [],
   "source": []
  }
 ],
 "metadata": {
  "kernelspec": {
   "display_name": "Python 3",
   "language": "python",
   "name": "python3"
  },
  "language_info": {
   "codemirror_mode": {
    "name": "ipython",
    "version": 3
   },
   "file_extension": ".py",
   "mimetype": "text/x-python",
   "name": "python",
   "nbconvert_exporter": "python",
   "pygments_lexer": "ipython3",
   "version": "3.8.0"
  },
  "orig_nbformat": 4
 },
 "nbformat": 4,
 "nbformat_minor": 2
}
