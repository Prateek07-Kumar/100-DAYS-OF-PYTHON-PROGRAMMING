{
 "cells": [
  {
   "cell_type": "markdown",
   "metadata": {},
   "source": [
    "**Namespaces**\n",
    "\n",
    "A namespace is a space that holds names(identifiers).Programmatically speaking, namespaces are dictionary of identifiers(keys) and their objects(values)\n",
    "\n",
    "There are 4 types of namespaces:\n",
    "\n",
    "- Builtin Namespace\n",
    "- Global Namespace\n",
    "- Enclosing Namespace\n",
    "- Local Namespace"
   ]
  },
  {
   "cell_type": "markdown",
   "metadata": {},
   "source": [
    "**Scope and LEGB Rule**\n",
    "\n",
    "A scope is a textual region of a Python program where a namespace is directly accessible.\n",
    "\n",
    "The interpreter searches for a name from the inside out, looking in the local, enclosing, global, and finally the built-in scope. If the interpreter doesn’t find the name in any of these locations, then Python raises a NameError exception."
   ]
  },
  {
   "cell_type": "code",
   "execution_count": 2,
   "metadata": {},
   "outputs": [
    {
     "name": "stdout",
     "output_type": "stream",
     "text": [
      "3\n",
      "2\n"
     ]
    }
   ],
   "source": [
    "# local and global\n",
    "# global var\n",
    "a = 2\n",
    "\n",
    "def temp():\n",
    "  # local var\n",
    "  b = 3\n",
    "  print(b)\n",
    "\n",
    "temp()\n",
    "print(a)"
   ]
  },
  {
   "cell_type": "code",
   "execution_count": 3,
   "metadata": {},
   "outputs": [
    {
     "ename": "NameError",
     "evalue": "name 'b' is not defined",
     "output_type": "error",
     "traceback": [
      "\u001b[1;31m---------------------------------------------------------------------------\u001b[0m",
      "\u001b[1;31mNameError\u001b[0m                                 Traceback (most recent call last)",
      "Cell \u001b[1;32mIn[3], line 9\u001b[0m\n\u001b[0;32m      6\u001b[0m   a \u001b[39m=\u001b[39m \u001b[39m3\u001b[39m\n\u001b[0;32m      7\u001b[0m   \u001b[39mprint\u001b[39m(b)\n\u001b[1;32m----> 9\u001b[0m temp()\n\u001b[0;32m     10\u001b[0m \u001b[39mprint\u001b[39m(a)\n",
      "Cell \u001b[1;32mIn[3], line 7\u001b[0m, in \u001b[0;36mtemp\u001b[1;34m()\u001b[0m\n\u001b[0;32m      4\u001b[0m \u001b[39mdef\u001b[39;00m \u001b[39mtemp\u001b[39m():\n\u001b[0;32m      5\u001b[0m   \u001b[39m# local var\u001b[39;00m\n\u001b[0;32m      6\u001b[0m   a \u001b[39m=\u001b[39m \u001b[39m3\u001b[39m\n\u001b[1;32m----> 7\u001b[0m   \u001b[39mprint\u001b[39m(b)\n",
      "\u001b[1;31mNameError\u001b[0m: name 'b' is not defined"
     ]
    }
   ],
   "source": [
    "# local and global -> same name\n",
    "a = 2\n",
    "\n",
    "def temp():\n",
    "  # local var\n",
    "  a = 3\n",
    "  print(b)\n",
    "\n",
    "temp()\n",
    "print(a)"
   ]
  },
  {
   "cell_type": "code",
   "execution_count": 4,
   "metadata": {},
   "outputs": [
    {
     "name": "stdout",
     "output_type": "stream",
     "text": [
      "1\n",
      "1\n"
     ]
    }
   ],
   "source": [
    "# local and global -> global created inside local\n",
    "def temp():\n",
    "  # local var\n",
    "  global a\n",
    "  a = 1\n",
    "  print(a)\n",
    "\n",
    "temp()\n",
    "print(a)"
   ]
  },
  {
   "cell_type": "code",
   "execution_count": 7,
   "metadata": {},
   "outputs": [
    {
     "name": "stdout",
     "output_type": "stream",
     "text": [
      "5\n",
      "5\n"
     ]
    },
    {
     "ename": "NameError",
     "evalue": "name 'z' is not defined",
     "output_type": "error",
     "traceback": [
      "\u001b[1;31m---------------------------------------------------------------------------\u001b[0m",
      "\u001b[1;31mNameError\u001b[0m                                 Traceback (most recent call last)",
      "Cell \u001b[1;32mIn[7], line 9\u001b[0m\n\u001b[0;32m      7\u001b[0m temp(\u001b[39m5\u001b[39m)\n\u001b[0;32m      8\u001b[0m \u001b[39mprint\u001b[39m(a)\n\u001b[1;32m----> 9\u001b[0m \u001b[39mprint\u001b[39m(z)\n",
      "\u001b[1;31mNameError\u001b[0m: name 'z' is not defined"
     ]
    }
   ],
   "source": [
    "# local and global -> function parameter is local\n",
    "def temp(z):\n",
    "  # local var\n",
    "  print(z)\n",
    "\n",
    "a = 5\n",
    "temp(5)\n",
    "print(a)\n",
    "print(z)"
   ]
  },
  {
   "cell_type": "code",
   "execution_count": 8,
   "metadata": {},
   "outputs": [
    {
     "name": "stdout",
     "output_type": "stream",
     "text": [
      "['ArithmeticError', 'AssertionError', 'AttributeError', 'BaseException', 'BlockingIOError', 'BrokenPipeError', 'BufferError', 'BytesWarning', 'ChildProcessError', 'ConnectionAbortedError', 'ConnectionError', 'ConnectionRefusedError', 'ConnectionResetError', 'DeprecationWarning', 'EOFError', 'Ellipsis', 'EncodingWarning', 'EnvironmentError', 'Exception', 'False', 'FileExistsError', 'FileNotFoundError', 'FloatingPointError', 'FutureWarning', 'GeneratorExit', 'IOError', 'ImportError', 'ImportWarning', 'IndentationError', 'IndexError', 'InterruptedError', 'IsADirectoryError', 'KeyError', 'KeyboardInterrupt', 'LookupError', 'MemoryError', 'ModuleNotFoundError', 'NameError', 'None', 'NotADirectoryError', 'NotImplemented', 'NotImplementedError', 'OSError', 'OverflowError', 'PendingDeprecationWarning', 'PermissionError', 'ProcessLookupError', 'RecursionError', 'ReferenceError', 'ResourceWarning', 'RuntimeError', 'RuntimeWarning', 'StopAsyncIteration', 'StopIteration', 'SyntaxError', 'SyntaxWarning', 'SystemError', 'SystemExit', 'TabError', 'TimeoutError', 'True', 'TypeError', 'UnboundLocalError', 'UnicodeDecodeError', 'UnicodeEncodeError', 'UnicodeError', 'UnicodeTranslateError', 'UnicodeWarning', 'UserWarning', 'ValueError', 'Warning', 'WindowsError', 'ZeroDivisionError', '__IPYTHON__', '__build_class__', '__debug__', '__doc__', '__import__', '__loader__', '__name__', '__package__', '__spec__', 'abs', 'aiter', 'all', 'anext', 'any', 'ascii', 'bin', 'bool', 'breakpoint', 'bytearray', 'bytes', 'callable', 'chr', 'classmethod', 'compile', 'complex', 'copyright', 'credits', 'delattr', 'dict', 'dir', 'display', 'divmod', 'enumerate', 'eval', 'exec', 'execfile', 'filter', 'float', 'format', 'frozenset', 'get_ipython', 'getattr', 'globals', 'hasattr', 'hash', 'help', 'hex', 'id', 'input', 'int', 'isinstance', 'issubclass', 'iter', 'len', 'license', 'list', 'locals', 'map', 'max', 'memoryview', 'min', 'next', 'object', 'oct', 'open', 'ord', 'pow', 'print', 'property', 'range', 'repr', 'reversed', 'round', 'runfile', 'set', 'setattr', 'slice', 'sorted', 'staticmethod', 'str', 'sum', 'super', 'tuple', 'type', 'vars', 'zip']\n"
     ]
    }
   ],
   "source": [
    "# built-in scope\n",
    "import builtins\n",
    "print(dir(builtins))"
   ]
  },
  {
   "cell_type": "code",
   "execution_count": 29,
   "metadata": {},
   "outputs": [
    {
     "ename": "TypeError",
     "evalue": "max() takes 0 positional arguments but 1 was given",
     "output_type": "error",
     "traceback": [
      "\u001b[1;31m---------------------------------------------------------------------------\u001b[0m",
      "\u001b[1;31mTypeError\u001b[0m                                 Traceback (most recent call last)",
      "Cell \u001b[1;32mIn[29], line 3\u001b[0m\n\u001b[0;32m      1\u001b[0m \u001b[39m# renaming built-ins\u001b[39;00m\n\u001b[0;32m      2\u001b[0m L \u001b[39m=\u001b[39m [\u001b[39m1\u001b[39m,\u001b[39m2\u001b[39m,\u001b[39m3\u001b[39m]\n\u001b[1;32m----> 3\u001b[0m \u001b[39mprint\u001b[39m(\u001b[39mmax\u001b[39;49m(L))\n\u001b[0;32m      4\u001b[0m \u001b[39mdef\u001b[39;00m \u001b[39mmax\u001b[39m():\n\u001b[0;32m      5\u001b[0m   \u001b[39mprint\u001b[39m(\u001b[39m'\u001b[39m\u001b[39mhello\u001b[39m\u001b[39m'\u001b[39m)\n",
      "\u001b[1;31mTypeError\u001b[0m: max() takes 0 positional arguments but 1 was given"
     ]
    }
   ],
   "source": [
    "# renaming built-ins\n",
    "L = [1,2,3]\n",
    "print(max(L))\n",
    "def max():\n",
    "  print('hello')\n",
    "\n",
    "print(max(L))\n",
    "# max(L)"
   ]
  },
  {
   "cell_type": "code",
   "execution_count": 18,
   "metadata": {},
   "outputs": [
    {
     "name": "stdout",
     "output_type": "stream",
     "text": [
      "inner function\n",
      "outer function\n",
      "main program\n"
     ]
    }
   ],
   "source": [
    "# Enclosing scope\n",
    "\n",
    "def outer():\n",
    "    def inner():\n",
    "        print(\"inner function\")\n",
    "    inner()\n",
    "    print(\"outer function\")\n",
    "    \n",
    "outer()\n",
    "print('main program')\n",
    "    "
   ]
  },
  {
   "cell_type": "code",
   "execution_count": 25,
   "metadata": {},
   "outputs": [
    {
     "name": "stdout",
     "output_type": "stream",
     "text": [
      "1\n",
      "outer function\n",
      "main program\n"
     ]
    }
   ],
   "source": [
    "# Enclosing scope\n",
    "\n",
    "def outer():\n",
    "    # a = 3\n",
    "    def inner():\n",
    "        # a = 4\n",
    "        print(a)\n",
    "        # print(\"inner function\")\n",
    "    inner()\n",
    "    print(\"outer function\")\n",
    "    \n",
    "# a = 1\n",
    "outer()\n",
    "print('main program')\n",
    "    "
   ]
  },
  {
   "cell_type": "code",
   "execution_count": 27,
   "metadata": {},
   "outputs": [
    {
     "name": "stdout",
     "output_type": "stream",
     "text": [
      "inner 2\n",
      "outer 2\n",
      "main program\n"
     ]
    }
   ],
   "source": [
    "# nonlocal keyword\n",
    "def outer():\n",
    "  a = 1\n",
    "  def inner():\n",
    "    nonlocal a\n",
    "    a += 1\n",
    "    print('inner',a)\n",
    "  inner()\n",
    "  print('outer',a)\n",
    "\n",
    "\n",
    "outer()\n",
    "print('main program')"
   ]
  },
  {
   "cell_type": "markdown",
   "metadata": {},
   "source": [
    "**Decorators**\n",
    "\n",
    "A decorator in python is a function that receives another function as input and adds some functionality(decoration) to and it and returns it.\n",
    "\n",
    "This can happen only because python functions are 1st class citizens.\n",
    "\n",
    "There are 2 types of decorators available in python\n",
    "\n",
    "- Built in decorators like @staticmethod, @classmethod, @abstractmethod and @property etc\n",
    "- User defined decorators that we programmers can create according to our needs"
   ]
  },
  {
   "cell_type": "code",
   "execution_count": 1,
   "metadata": {},
   "outputs": [
    {
     "data": {
      "text/plain": [
       "4"
      ]
     },
     "execution_count": 1,
     "metadata": {},
     "output_type": "execute_result"
    }
   ],
   "source": [
    "# Python are 1st class function\n",
    "\n",
    "def modify(func,num):\n",
    "  return func(num)\n",
    "\n",
    "def square(num):\n",
    "  return num**2\n",
    "\n",
    "modify(square,2)"
   ]
  },
  {
   "cell_type": "code",
   "execution_count": 4,
   "metadata": {},
   "outputs": [
    {
     "name": "stdout",
     "output_type": "stream",
     "text": [
      "*********************************\n",
      "hello\n",
      "*********************************\n",
      "*********************************\n",
      "hello prateek\n",
      "*********************************\n"
     ]
    }
   ],
   "source": [
    "# simple example\n",
    "\n",
    "def my_decorator(func):\n",
    "    def wrapper():\n",
    "        print('*********************************')\n",
    "        func()\n",
    "        print('*********************************')\n",
    "    return wrapper\n",
    "\n",
    "def hello():\n",
    "    print('hello')\n",
    "    \n",
    "def display():\n",
    "    print('hello prateek')\n",
    "    \n",
    "a = my_decorator(hello)\n",
    "a()\n",
    "\n",
    "b = my_decorator(display)\n",
    "\n",
    "b()"
   ]
  },
  {
   "cell_type": "code",
   "execution_count": 1,
   "metadata": {},
   "outputs": [
    {
     "name": "stdout",
     "output_type": "stream",
     "text": [
      "***********************\n",
      "hello\n",
      "***********************\n"
     ]
    }
   ],
   "source": [
    "\n",
    "# Better syntax?\n",
    "# simple example\n",
    "\n",
    "def my_decorator(func):\n",
    "  def wrapper():\n",
    "    print('***********************')\n",
    "    func()\n",
    "    print('***********************')\n",
    "  return wrapper\n",
    "\n",
    "@my_decorator\n",
    "def hello():\n",
    "  print('hello')\n",
    "\n",
    "hello()"
   ]
  },
  {
   "cell_type": "code",
   "execution_count": 19,
   "metadata": {},
   "outputs": [
    {
     "name": "stdout",
     "output_type": "stream",
     "text": [
      "hello wolrd\n",
      "time taken by hello 2.016836404800415 secs\n",
      "4\n",
      "time taken by square 1.0080208778381348 secs\n",
      "8\n",
      "time taken by power 0.0 secs\n"
     ]
    }
   ],
   "source": [
    "# anything meaningful?\n",
    "import time\n",
    "\n",
    "def timer(func):\n",
    "  def wrapper(*args):\n",
    "    start = time.time()\n",
    "    func(*args)\n",
    "    print('time taken by',func.__name__,time.time()-start,'secs')\n",
    "  return wrapper\n",
    "\n",
    "@timer\n",
    "def hello():\n",
    "  print('hello wolrd')\n",
    "  time.sleep(2)\n",
    "\n",
    "@timer\n",
    "def square(num):\n",
    "  time.sleep(1)\n",
    "  print(num**2)\n",
    "\n",
    "@timer\n",
    "def power(a,b):\n",
    "  print(a**b)\n",
    "\n",
    "hello()\n",
    "square(2)\n",
    "power(2,3)\n"
   ]
  },
  {
   "cell_type": "code",
   "execution_count": 20,
   "metadata": {},
   "outputs": [],
   "source": [
    "# A big problem"
   ]
  },
  {
   "cell_type": "code",
   "execution_count": 21,
   "metadata": {},
   "outputs": [],
   "source": [
    "# One last example -> decorators with arguments\n"
   ]
  },
  {
   "cell_type": "code",
   "execution_count": 23,
   "metadata": {},
   "outputs": [],
   "source": [
    "# @checkdt(int)\n",
    "def square(num):\n",
    "  print(num**2)"
   ]
  },
  {
   "cell_type": "code",
   "execution_count": 38,
   "metadata": {},
   "outputs": [
    {
     "name": "stdout",
     "output_type": "stream",
     "text": [
      "4\n"
     ]
    }
   ],
   "source": [
    "def sanity_check(data_type):\n",
    "  def outer_wrapper(func):\n",
    "    def inner_wrapper(*args):\n",
    "      if type(*args) == data_type:\n",
    "        func(*args)\n",
    "      else:\n",
    "        raise TypeError('Ye datatype nai chalega')\n",
    "    return inner_wrapper\n",
    "  return outer_wrapper\n",
    "\n",
    "@sanity_check(int)\n",
    "def square(num):\n",
    "  print(num**2)\n",
    "\n",
    "@sanity_check(str)\n",
    "def greet(name):\n",
    "  print('hello',name)\n",
    "\n",
    "square(2)"
   ]
  },
  {
   "cell_type": "code",
   "execution_count": null,
   "metadata": {},
   "outputs": [],
   "source": []
  }
 ],
 "metadata": {
  "kernelspec": {
   "display_name": "Python 3",
   "language": "python",
   "name": "python3"
  },
  "language_info": {
   "codemirror_mode": {
    "name": "ipython",
    "version": 3
   },
   "file_extension": ".py",
   "mimetype": "text/x-python",
   "name": "python",
   "nbconvert_exporter": "python",
   "pygments_lexer": "ipython3",
   "version": "3.10.9"
  },
  "orig_nbformat": 4
 },
 "nbformat": 4,
 "nbformat_minor": 2
}
