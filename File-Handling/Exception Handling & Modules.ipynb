{
 "cells": [
  {
   "cell_type": "markdown",
   "metadata": {},
   "source": [
    "**Exceptions**\n",
    "\n",
    "If things go wrong during the execution of the program(runtime). It generally happens when something unforeseen has happened.\n",
    "\n",
    "- Exceptions are raised by python runtime\n",
    "- You have to takle is on the fly\n",
    "\n",
    "**Examples**\n",
    "- Memory overflow\n",
    "- Divide by 0 -> logical error\n",
    "- Database error"
   ]
  },
  {
   "cell_type": "code",
   "execution_count": 2,
   "metadata": {},
   "outputs": [],
   "source": [
    "# Why is it important to handle exceptions\n",
    "# how to handle exceptions\n",
    "# -> Try except block"
   ]
  },
  {
   "cell_type": "code",
   "execution_count": 11,
   "metadata": {},
   "outputs": [],
   "source": [
    "# let's create a file\n",
    "with open('sample.txt','w') as f:\n",
    "  f.write('hello world')"
   ]
  },
  {
   "cell_type": "code",
   "execution_count": 16,
   "metadata": {},
   "outputs": [
    {
     "name": "stdout",
     "output_type": "stream",
     "text": [
      "sorry file not found\n"
     ]
    }
   ],
   "source": [
    "# try catch demo\n",
    "try:\n",
    "  with open('sample1.txt','r') as f:\n",
    "    print(f.read())\n",
    "except:\n",
    "  print('sorry file not found')"
   ]
  },
  {
   "cell_type": "code",
   "execution_count": 36,
   "metadata": {},
   "outputs": [
    {
     "name": "stdout",
     "output_type": "stream",
     "text": [
      "file not found\n"
     ]
    }
   ],
   "source": [
    "# catching specific exception\n",
    "try:\n",
    "  m=5\n",
    "  f = open('sample1.txt','r')\n",
    "  print(f.read())\n",
    "  print(m)\n",
    "  print(5/2)\n",
    "  L = [1,2,3]\n",
    "  L[100]\n",
    "except FileNotFoundError:\n",
    "  print('file not found')\n",
    "except NameError:\n",
    "  print('variable not defined')\n",
    "except ZeroDivisionError:\n",
    "  print(\"can't divide by 0\")\n",
    "except Exception as e:\n",
    "  print(e)"
   ]
  },
  {
   "cell_type": "code",
   "execution_count": 41,
   "metadata": {},
   "outputs": [
    {
     "name": "stdout",
     "output_type": "stream",
     "text": [
      "file nahi mila\n"
     ]
    }
   ],
   "source": [
    "# else\n",
    "\n",
    "try:\n",
    "    f = open('sample1.txt','r')\n",
    "except FileNotFoundError:\n",
    "    print('file nahi mila')\n",
    "except Exception:\n",
    "    print('kuch to lafda hai')\n",
    "else:\n",
    "    print(f.read())"
   ]
  },
  {
   "cell_type": "code",
   "execution_count": 43,
   "metadata": {},
   "outputs": [
    {
     "name": "stdout",
     "output_type": "stream",
     "text": [
      "file nahi mila\n",
      "ye to print hoga hi\n"
     ]
    }
   ],
   "source": [
    "# finally\n",
    "# else\n",
    "\n",
    "try:\n",
    "    f = open('sample1.txt','r')\n",
    "except FileNotFoundError:\n",
    "    print('file nahi mila')\n",
    "except Exception:\n",
    "    print('kuch to lafda hai')\n",
    "else:\n",
    "    print(f.read())\n",
    "finally:\n",
    "    print('ye to print hoga hi')"
   ]
  },
  {
   "cell_type": "code",
   "execution_count": 44,
   "metadata": {},
   "outputs": [],
   "source": [
    "# raise Exception\n",
    "# In Python programming, exceptions are raised when errors occur at runtime. \n",
    "# We can also manually raise exceptions using the raise keyword.\n",
    "\n",
    "# We can optionally pass values to the exception to clarify why that exception was raised"
   ]
  },
  {
   "cell_type": "code",
   "execution_count": 53,
   "metadata": {},
   "outputs": [
    {
     "name": "stdout",
     "output_type": "stream",
     "text": [
      "paise nai hai tere paas\n"
     ]
    }
   ],
   "source": [
    "class Bank:\n",
    "\n",
    "  def __init__(self,balance):\n",
    "    self.balance = balance\n",
    "\n",
    "  def withdraw(self,amount):\n",
    "    if amount < 0:\n",
    "      raise Exception('amount cannot be -ve')\n",
    "    if self.balance < amount:\n",
    "      raise Exception('paise nai hai tere paas')\n",
    "    self.balance = self.balance - amount\n",
    "\n",
    "obj = Bank(10000)\n",
    "try:\n",
    "  obj.withdraw(15000)\n",
    "except Exception as e:\n",
    "  print(e)\n",
    "else:\n",
    "  print(obj.balance)"
   ]
  },
  {
   "cell_type": "code",
   "execution_count": 58,
   "metadata": {},
   "outputs": [
    {
     "name": "stdout",
     "output_type": "stream",
     "text": [
      "5000\n"
     ]
    }
   ],
   "source": [
    "class MyException(Exception):\n",
    "  def __init__(self,message):\n",
    "    print(message)\n",
    "\n",
    "class Bank:\n",
    "\n",
    "  def __init__(self,balance):\n",
    "    self.balance = balance\n",
    "\n",
    "  def withdraw(self,amount):\n",
    "    if amount < 0:\n",
    "      raise MyException('amount cannot be -ve')\n",
    "    if self.balance < amount:\n",
    "      raise MyException('paise nai hai tere paas')\n",
    "    self.balance = self.balance - amount\n",
    "\n",
    "obj = Bank(10000)\n",
    "try:\n",
    "  obj.withdraw(5000)\n",
    "except MyException as e:\n",
    "  pass\n",
    "else:\n",
    "  print(obj.balance)"
   ]
  },
  {
   "cell_type": "code",
   "execution_count": 60,
   "metadata": {},
   "outputs": [],
   "source": [
    "# creating custom exceptions\n",
    "# exception hierarchy in python"
   ]
  },
  {
   "cell_type": "code",
   "execution_count": 63,
   "metadata": {},
   "outputs": [
    {
     "name": "stdout",
     "output_type": "stream",
     "text": [
      "bhai teri to lag gayi\n",
      "logout\n",
      "database connection closed\n"
     ]
    }
   ],
   "source": [
    "class SecurityError(Exception):\n",
    "\n",
    "  def __init__(self,message):\n",
    "    print(message)\n",
    "\n",
    "  def logout(self):\n",
    "    print('logout')\n",
    "\n",
    "class Google:\n",
    "\n",
    "  def __init__(self,name,email,password,device):\n",
    "    self.name = name\n",
    "    self.email = email\n",
    "    self.password = password\n",
    "    self.device = device\n",
    "\n",
    "  def login(self,email,password,device):\n",
    "    if device != self.device:\n",
    "      raise SecurityError('bhai teri to lag gayi')\n",
    "    if email == self.email and password == self.password:\n",
    "      print('welcome')\n",
    "    else:\n",
    "      print('login error')\n",
    "\n",
    "\n",
    "\n",
    "obj = Google('nitish','nitish@gmail.com','1234','android')\n",
    "\n",
    "try:\n",
    "  obj.login('nitish@gmail.com','1234','window')\n",
    "except SecurityError as e:\n",
    "  e.logout()\n",
    "else:\n",
    "  print(obj.name)\n",
    "finally:\n",
    "  print('database connection closed')\n",
    "\n"
   ]
  },
  {
   "cell_type": "code",
   "execution_count": null,
   "metadata": {},
   "outputs": [],
   "source": []
  }
 ],
 "metadata": {
  "kernelspec": {
   "display_name": "base",
   "language": "python",
   "name": "python3"
  },
  "language_info": {
   "codemirror_mode": {
    "name": "ipython",
    "version": 3
   },
   "file_extension": ".py",
   "mimetype": "text/x-python",
   "name": "python",
   "nbconvert_exporter": "python",
   "pygments_lexer": "ipython3",
   "version": "3.10.9"
  },
  "orig_nbformat": 4
 },
 "nbformat": 4,
 "nbformat_minor": 2
}
