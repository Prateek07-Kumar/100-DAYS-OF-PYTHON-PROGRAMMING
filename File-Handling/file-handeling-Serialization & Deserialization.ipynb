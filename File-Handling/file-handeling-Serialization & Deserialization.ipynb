{
 "cells": [
  {
   "cell_type": "markdown",
   "metadata": {},
   "source": [
    "#### Some Theory\n",
    "#### Types of data used for I/O:\n",
    "- Text - '12345' as a sequence of unicode chars\n",
    "- Binary - 12345 as a sequence of bytes of its binary equivalent\n",
    "- Hence there are 2 file types to deal with\n",
    "- Text files - All program files are text files\n",
    "- Binary Files - Images,music,video,exe files"
   ]
  },
  {
   "cell_type": "code",
   "execution_count": 1,
   "metadata": {},
   "outputs": [
    {
     "data": {
      "text/plain": [
       "11"
      ]
     },
     "execution_count": 1,
     "metadata": {},
     "output_type": "execute_result"
    }
   ],
   "source": [
    "# case 1 - if the file is not present\n",
    "f = open('sample.txt','w')\n",
    "f.write('Hello world')\n",
    "# f.close()\n",
    "# since file is closed hence this will not work\n",
    "# f.write('hello')"
   ]
  },
  {
   "cell_type": "code",
   "execution_count": null,
   "metadata": {},
   "outputs": [],
   "source": []
  }
 ],
 "metadata": {
  "kernelspec": {
   "display_name": "base",
   "language": "python",
   "name": "python3"
  },
  "language_info": {
   "codemirror_mode": {
    "name": "ipython",
    "version": 3
   },
   "file_extension": ".py",
   "mimetype": "text/x-python",
   "name": "python",
   "nbconvert_exporter": "python",
   "pygments_lexer": "ipython3",
   "version": "3.10.9"
  },
  "orig_nbformat": 4
 },
 "nbformat": 4,
 "nbformat_minor": 2
}
